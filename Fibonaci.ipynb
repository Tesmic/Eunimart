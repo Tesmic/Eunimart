{
 "cells": [
  {
   "cell_type": "markdown",
   "metadata": {},
   "source": [
    "**Eunimart   Hiring Task**\n",
    "\n",
    "\n",
    "Akhil is expert in calculating fibonacci series. But one day his friend wanted test his knowledge on fibonacci. His friend asked him to calculate the sum of the fibonacci series within a particular range(a,b).\n",
    "\n",
    "Fibonacci series 0 1 1 2 3 5 8 13 21 34 ......\n",
    "\n",
    "Let the range be (1,5).\n",
    "\n",
    "SUM = 1+1+2+3+5 terms\n",
    "\n",
    "sum=12.\n",
    "\n",
    "Input Format\n",
    "\n",
    "First line contain t(no of testcases).\n",
    "\n",
    "Next t lines contains two space separated integer value a,b.\n",
    "\n",
    "Constraints\n",
    "\n",
    "1 <= t<= 100000;\n",
    "\n",
    "0 <= a,b <= 90;\n",
    "\n",
    "Output Format\n",
    "\n",
    "Output consist of t lines.\n",
    "\n",
    "Each line contains the sum of the fibonacci numbers within the given range if(ab) print '0' as output"
   ]
  },
  {
   "cell_type": "code",
   "execution_count": 32,
   "metadata": {},
   "outputs": [
    {
     "name": "stdout",
     "output_type": "stream",
     "text": [
      "Enter No. of test cases\n",
      "3\n",
      "Enter  3  no of testcases  separated with white space 0 <= a,b <= 90\n",
      "2 7\n",
      "5 9\n",
      "7 2\n",
      "a: 2  b  7  Fib sum  10\n",
      "a: 5  b  9  Fib sum  13\n",
      "a: 7  b  2  Fib sum  10\n"
     ]
    }
   ],
   "source": [
    "t = int(input(\"Enter No. of test cases\\n\")) \n",
    "if (t > 0 & t<= 100000):\n",
    "    print(\"Enter \",t,\" no of testcases  separated with white space 0 <= a,b <= 90\") \n",
    "    my_list = [] \n",
    "    for count in range(t):\n",
    "        data = str(input()) \n",
    "        my_list.append(data) \n",
    "    #print(\"Sample Output\")\n",
    "    for i in range(N):\n",
    "        #print(my_list[i])\n",
    "        ab = my_list[i].split()\n",
    "        a=int(ab[0])\n",
    "        b=int(ab[1])\n",
    "        \n",
    "        \n",
    "        fib_list=[]\n",
    "        fib=0\n",
    "        fibold=1\n",
    "        for j in range(max(a,b)):\n",
    "            #print(fib)\n",
    "            fib= fibold+fib\n",
    "            fibold=fib-fibold\n",
    "            fib_list.append(fib)\n",
    "        sum_fib =0\n",
    "        for k in range(len(fib_list)):\n",
    "            if (fib_list[k] >= min(a,b)) and (fib_list[k] <= max(a,b)):\n",
    "                sum_fib = sum_fib+fib_list[k]\n",
    "        print(\"a:\",a,\" b \",b,\" Fib sum \",sum_fib)\n",
    "        \n",
    "else:\n",
    "    print(\"Try again with a number in range 1 <= t<= 100000\")"
   ]
  },
  {
   "cell_type": "code",
   "execution_count": 1,
   "metadata": {},
   "outputs": [
    {
     "name": "stdout",
     "output_type": "stream",
     "text": [
      "0\n",
      "1\n",
      "1\n",
      "2\n",
      "3\n",
      "5\n",
      "8\n",
      "13\n",
      "21\n",
      "34\n"
     ]
    }
   ],
   "source": [
    "#Fibonacci\n",
    "fib=0\n",
    "fibold=1\n",
    "\n",
    "for i in range(10):\n",
    "    print(fib)\n",
    "    fib= fibold+fib\n",
    "    fibold=fib-fibold"
   ]
  },
  {
   "cell_type": "code",
   "execution_count": null,
   "metadata": {},
   "outputs": [],
   "source": [
    "0 1 1 2 3 5 "
   ]
  },
  {
   "cell_type": "code",
   "execution_count": null,
   "metadata": {},
   "outputs": [],
   "source": []
  }
 ],
 "metadata": {
  "kernelspec": {
   "display_name": "Python 3",
   "language": "python",
   "name": "python3"
  },
  "language_info": {
   "codemirror_mode": {
    "name": "ipython",
    "version": 3
   },
   "file_extension": ".py",
   "mimetype": "text/x-python",
   "name": "python",
   "nbconvert_exporter": "python",
   "pygments_lexer": "ipython3",
   "version": "3.7.4"
  }
 },
 "nbformat": 4,
 "nbformat_minor": 2
}
